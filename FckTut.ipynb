{
  "nbformat": 4,
  "nbformat_minor": 0,
  "metadata": {
    "colab": {
      "name": "FckTut.ipynb",
      "version": "0.3.2",
      "provenance": [],
      "collapsed_sections": [],
      "include_colab_link": true
    },
    "kernelspec": {
      "name": "python3",
      "display_name": "Python 3"
    }
  },
  "cells": [
    {
      "cell_type": "markdown",
      "metadata": {
        "id": "view-in-github",
        "colab_type": "text"
      },
      "source": [
        "<a href=\"https://colab.research.google.com/github/Feli555/FckingPyt3Tut/blob/master/FckTut.ipynb\" target=\"_parent\"><img src=\"https://colab.research.google.com/assets/colab-badge.svg\" alt=\"Open In Colab\"/></a>"
      ]
    },
    {
      "cell_type": "code",
      "metadata": {
        "id": "ghMQ7o_VsEj3",
        "colab_type": "code",
        "colab": {}
      },
      "source": [
        "import numpy as np\n",
        "import pandas as pd\n",
        "import matplotlib.pyplot as plt"
      ],
      "execution_count": 0,
      "outputs": []
    },
    {
      "cell_type": "markdown",
      "metadata": {
        "id": "TmYlTzDVtCB0",
        "colab_type": "text"
      },
      "source": [
        "How to fucking create a function"
      ]
    },
    {
      "cell_type": "code",
      "metadata": {
        "id": "7WoF5o20s5wT",
        "colab_type": "code",
        "colab": {}
      },
      "source": [
        "def fucking_function(arg1, arg2, arg3):\n",
        "  \"\"\"\n",
        "   Los jodidos arg1, arg2, arg3 son argumentos que se piden para ejecutar la\n",
        "   funcion, son cosas que pueden cambiar y que se usan para el codigo de la\n",
        "   funcion.\n",
        "   El nombre es en minusculas sin espacios, para espacios el _\n",
        "   Y estas 3 comillas son para la documentacion de la funcion\n",
        "  \"\"\"\n",
        "  print('Argument 1: ', arg1)\n",
        "  print('Argument 2: ', arg2)\n",
        "  print('Argument 3: ', arg3)"
      ],
      "execution_count": 0,
      "outputs": []
    },
    {
      "cell_type": "code",
      "metadata": {
        "id": "edPiPwoltvm0",
        "colab_type": "code",
        "colab": {}
      },
      "source": [
        "def suma_producto(a, b, c):\n",
        "  \"\"\"\n",
        "  Lo unico que hace es sumar dos numeros y multiplicar por el tercero.\n",
        "  Es como ejemplo.\n",
        "  A B C son numeros\n",
        "  El return se usa cuando una funcion devuelve un valor, por ejemplo la de\n",
        "  arriba no devuelve nada, esta si.\n",
        "  \"\"\"\n",
        "  return (a+b)*c"
      ],
      "execution_count": 0,
      "outputs": []
    },
    {
      "cell_type": "code",
      "metadata": {
        "id": "V7PlLE0_v28N",
        "colab_type": "code",
        "colab": {
          "base_uri": "https://localhost:8080/",
          "height": 34
        },
        "outputId": "efcb7928-c2f8-46c7-8184-df9166610a9e"
      },
      "source": [
        "suma_producto(153, 134354, 34834)"
      ],
      "execution_count": 5,
      "outputs": [
        {
          "output_type": "execute_result",
          "data": {
            "text/plain": [
              "4685416838"
            ]
          },
          "metadata": {
            "tags": []
          },
          "execution_count": 5
        }
      ]
    },
    {
      "cell_type": "markdown",
      "metadata": {
        "id": "gAJQQdSrwm2x",
        "colab_type": "text"
      },
      "source": [
        "Ahora saben como carajos se usan las funciones, es solo\n",
        "\n",
        "def nombre (argumentos):\n",
        "    \n",
        "    \"\n",
        "    La documentacion\n",
        "    \"\n",
        "    El codigo literalmente hacen lo que sea aquí, pues lo que se supone que hace la funcion\n",
        "    y \n",
        "    return lo que sea que vaya a devolver esa cosa si es que lo hace\n",
        "    \n",
        "Y ya"
      ]
    },
    {
      "cell_type": "code",
      "metadata": {
        "id": "RdXlR-nfxhzK",
        "colab_type": "code",
        "colab": {}
      },
      "source": [
        "# ejemplo de una funcion mas interesante\n",
        "\n",
        "def create_custom_df(nS, lAss):\n",
        "  \"\"\"\n",
        "  Lo que hace es crear un Pandas DataFrame usando listas de datos como:\n",
        "  nS: Name of Symbols\n",
        "  volab: Volatility of asset\n",
        "  mN: Margin needed\n",
        "  pTp: Profit at 10 points\n",
        "  \n",
        "  lAss = List of assests\n",
        "  \"\"\"\n",
        "  return pd.DataFrame(index=nS, columns=['v', 'm', 'p'], data=lAss)"
      ],
      "execution_count": 0,
      "outputs": []
    },
    {
      "cell_type": "code",
      "metadata": {
        "id": "dAA20j83z4we",
        "colab_type": "code",
        "colab": {
          "base_uri": "https://localhost:8080/",
          "height": 166
        },
        "outputId": "560e1b64-33bc-4705-ccf1-a967b8ac92a1"
      },
      "source": [
        "# Probemos la funcion | Las variables pueden ser del nombre que sea\n",
        "\n",
        "l1 = ['Oil', 'Brent', 'GOLD', 'EURUSD']\n",
        "lOil = [0.6, 70, 10]\n",
        "lBrent = [0.7, 85, 12]\n",
        "lGold = [1.2, 1000, 50]\n",
        "lEurU = [2.5, 1500, 19]\n",
        "\n",
        "df = create_custom_df(l1, [lOil, lBrent, lGold, lEurU])\n",
        "df"
      ],
      "execution_count": 22,
      "outputs": [
        {
          "output_type": "execute_result",
          "data": {
            "text/html": [
              "<div>\n",
              "<style scoped>\n",
              "    .dataframe tbody tr th:only-of-type {\n",
              "        vertical-align: middle;\n",
              "    }\n",
              "\n",
              "    .dataframe tbody tr th {\n",
              "        vertical-align: top;\n",
              "    }\n",
              "\n",
              "    .dataframe thead th {\n",
              "        text-align: right;\n",
              "    }\n",
              "</style>\n",
              "<table border=\"1\" class=\"dataframe\">\n",
              "  <thead>\n",
              "    <tr style=\"text-align: right;\">\n",
              "      <th></th>\n",
              "      <th>v</th>\n",
              "      <th>m</th>\n",
              "      <th>p</th>\n",
              "    </tr>\n",
              "  </thead>\n",
              "  <tbody>\n",
              "    <tr>\n",
              "      <th>Oil</th>\n",
              "      <td>0.6</td>\n",
              "      <td>70</td>\n",
              "      <td>10</td>\n",
              "    </tr>\n",
              "    <tr>\n",
              "      <th>Brent</th>\n",
              "      <td>0.7</td>\n",
              "      <td>85</td>\n",
              "      <td>12</td>\n",
              "    </tr>\n",
              "    <tr>\n",
              "      <th>GOLD</th>\n",
              "      <td>1.2</td>\n",
              "      <td>1000</td>\n",
              "      <td>50</td>\n",
              "    </tr>\n",
              "    <tr>\n",
              "      <th>EURUSD</th>\n",
              "      <td>2.5</td>\n",
              "      <td>1500</td>\n",
              "      <td>19</td>\n",
              "    </tr>\n",
              "  </tbody>\n",
              "</table>\n",
              "</div>"
            ],
            "text/plain": [
              "          v     m   p\n",
              "Oil     0.6    70  10\n",
              "Brent   0.7    85  12\n",
              "GOLD    1.2  1000  50\n",
              "EURUSD  2.5  1500  19"
            ]
          },
          "metadata": {
            "tags": []
          },
          "execution_count": 22
        }
      ]
    },
    {
      "cell_type": "code",
      "metadata": {
        "id": "9ciNTL8_0gHm",
        "colab_type": "code",
        "colab": {
          "base_uri": "https://localhost:8080/",
          "height": 269
        },
        "outputId": "63377dd6-9b6f-4cfe-e8a6-5cf0f7798c31"
      },
      "source": [
        "# Como graficar:\n",
        "plt.scatter(df.index, df['p'])\n",
        "plt.ylabel('Profit at 10p')\n",
        "plt.show()"
      ],
      "execution_count": 25,
      "outputs": [
        {
          "output_type": "display_data",
          "data": {
            "image/png": "[encoded data removed]",
            "text/plain": [
              "<Figure size 432x288 with 1 Axes>"
            ]
          },
          "metadata": {
            "tags": []
          }
        }
      ]
    },
    {
      "cell_type": "code",
      "metadata": {
        "id": "2HA6CtBd6xBG",
        "colab_type": "code",
        "colab": {}
      },
      "source": [
        ""
      ],
      "execution_count": 0,
      "outputs": []
    }
  ]
}