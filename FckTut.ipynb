{
  "nbformat": 4,
  "nbformat_minor": 0,
  "metadata": {
    "colab": {
      "name": "FckTut.ipynb",
      "version": "0.3.2",
      "provenance": [],
      "collapsed_sections": [],
      "include_colab_link": true
    },
    "kernelspec": {
      "name": "python3",
      "display_name": "Python 3"
    }
  },
  "cells": [
    {
      "cell_type": "markdown",
      "metadata": {
        "id": "view-in-github",
        "colab_type": "text"
      },
      "source": [
        "<a href=\"https://colab.research.google.com/github/Feli555/FckingPyt3Tut/blob/master/FckTut.ipynb\" target=\"_parent\"><img src=\"https://colab.research.google.com/assets/colab-badge.svg\" alt=\"Open In Colab\"/></a>"
      ]
    },
    {
      "cell_type": "code",
      "metadata": {
        "id": "ghMQ7o_VsEj3",
        "colab_type": "code",
        "colab": {}
      },
      "source": [
        "import numpy as np\n",
        "import pandas as pd\n",
        "import matplotlib.pyplot as plt"
      ],
      "execution_count": 0,
      "outputs": []
    },
    {
      "cell_type": "markdown",
      "metadata": {
        "id": "TmYlTzDVtCB0",
        "colab_type": "text"
      },
      "source": [
        "How to fucking create a function"
      ]
    },
    {
      "cell_type": "code",
      "metadata": {
        "id": "7WoF5o20s5wT",
        "colab_type": "code",
        "colab": {}
      },
      "source": [
        "def fucking_function(arg1, arg2, arg3):\n",
        "  \"\"\"\n",
        "   Los jodidos arg1, arg2, arg3 son argumentos que se piden para ejecutar la\n",
        "   funcion, son cosas que pueden cambiar y que se usan para el codigo de la\n",
        "   funcion.\n",
        "   El nombre es en minusculas sin espacios, para espacios el _\n",
        "   Y estas 3 comillas son para la documentacion de la funcion\n",
        "  \"\"\"\n",
        "  print('Argument 1: ', arg1)\n",
        "  print('Argument 2: ', arg2)\n",
        "  print('Argument 3: ', arg3)"
      ],
      "execution_count": 0,
      "outputs": []
    },
    {
      "cell_type": "code",
      "metadata": {
        "id": "edPiPwoltvm0",
        "colab_type": "code",
        "colab": {}
      },
      "source": [
        "def suma_producto(a, b, c):\n",
        "  \"\"\"\n",
        "  Lo unico que hace es sumar dos numeros y multiplicar por el tercero.\n",
        "  Es como ejemplo.\n",
        "  A B C son numeros\n",
        "  El return se usa cuando una funcion devuelve un valor, por ejemplo la de\n",
        "  arriba no devuelve nada, esta si.\n",
        "  \"\"\"\n",
        "  return (a+b)*c"
      ],
      "execution_count": 0,
      "outputs": []
    },
    {
      "cell_type": "code",
      "metadata": {
        "id": "V7PlLE0_v28N",
        "colab_type": "code",
        "colab": {
          "base_uri": "https://localhost:8080/",
          "height": 34
        },
        "outputId": "efcb7928-c2f8-46c7-8184-df9166610a9e"
      },
      "source": [
        "suma_producto(153, 134354, 34834)"
      ],
      "execution_count": 5,
      "outputs": [
        {
          "output_type": "execute_result",
          "data": {
            "text/plain": [
              "4685416838"
            ]
          },
          "metadata": {
            "tags": []
          },
          "execution_count": 5
        }
      ]
    },
    {
      "cell_type": "markdown",
      "metadata": {
        "id": "gAJQQdSrwm2x",
        "colab_type": "text"
      },
      "source": [
        "Ahora saben como carajos se usan las funciones, es solo\n",
        "\n",
        "def nombre (argumentos):\n",
        "    \n",
        "    \"\n",
        "    La documentacion\n",
        "    \"\n",
        "    El codigo literalmente hacen lo que sea aquí, pues lo que se supone que hace la funcion\n",
        "    y \n",
        "    return lo que sea que vaya a devolver esa cosa si es que lo hace\n",
        "    \n",
        "Y ya"
      ]
    },
    {
      "cell_type": "code",
      "metadata": {
        "id": "RdXlR-nfxhzK",
        "colab_type": "code",
        "colab": {}
      },
      "source": [
        ""
      ],
      "execution_count": 0,
      "outputs": []
    }
  ]
}